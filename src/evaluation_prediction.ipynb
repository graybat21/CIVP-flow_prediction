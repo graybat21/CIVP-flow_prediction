{
 "cells": [
  {
   "cell_type": "markdown",
   "id": "bcf76bad",
   "metadata": {},
   "source": [
    "## 라이브러리 및 함수 선언"
   ]
  },
  {
   "cell_type": "code",
   "execution_count": 1,
   "id": "4db39c71",
   "metadata": {},
   "outputs": [
    {
     "name": "stderr",
     "output_type": "stream",
     "text": [
      "2022-10-13 01:27:50.716927: I tensorflow/stream_executor/platform/default/dso_loader.cc:48] Successfully opened dynamic library libcudart.so.10.1\n"
     ]
    }
   ],
   "source": [
    "import random\n",
    "\n",
    "import pandas as pd\n",
    "import numpy as np\n",
    "import h5py\n",
    "import tensorflow as tf\n",
    "from keras.models import Sequential\n",
    "from keras.layers import Dense, Dropout\n",
    "from keras.optimizers import Adam\n",
    "from keras.models import load_model"
   ]
  },
  {
   "cell_type": "code",
   "execution_count": 2,
   "id": "3d54d18c",
   "metadata": {},
   "outputs": [],
   "source": [
    "def weighted_mape(y_true, y_pred):\n",
    "    tot = tf.reduce_sum(y_true)\n",
    "    # 텐서 안의 값이 지정된 범위를 넘지 않게 해줌\n",
    "    tot = tf.clip_by_value(tot, clip_value_min=0.01, clip_value_max=10000000000000) \n",
    "    wmape = tf.realdiv(tf.reduce_sum(tf.abs(tf.subtract(y_true,y_pred))), tot)*100\n",
    "    \n",
    "    return wmape"
   ]
  },
  {
   "cell_type": "code",
   "execution_count": 3,
   "id": "6ce6cc4f",
   "metadata": {},
   "outputs": [],
   "source": [
    "def mape(y_test, y_pred):\n",
    "    return np.mean(np.abs((y_test - y_pred) / y_test)) * 100"
   ]
  },
  {
   "cell_type": "markdown",
   "id": "7aa8c73f",
   "metadata": {},
   "source": [
    "## 검증 데이터셋 불러오기"
   ]
  },
  {
   "cell_type": "code",
   "execution_count": 4,
   "id": "edbb759e",
   "metadata": {},
   "outputs": [
    {
     "data": {
      "text/plain": [
       "((251087, 107), (251087,))"
      ]
     },
     "execution_count": 4,
     "metadata": {},
     "output_type": "execute_result"
    }
   ],
   "source": [
    "with h5py.File('../dataset/train_test_data.hdf5', 'r') as hf:\n",
    "    X_test = hf['x_test'][:]\n",
    "    Y_test = hf['y_test'][:]\n",
    "\n",
    "X_test.shape, Y_test.shape"
   ]
  },
  {
   "cell_type": "markdown",
   "id": "7dd493be",
   "metadata": {},
   "source": [
    "## 모델 정의"
   ]
  },
  {
   "cell_type": "code",
   "execution_count": 5,
   "id": "b884b338",
   "metadata": {},
   "outputs": [],
   "source": [
    "def flow_prediction_model(x_size, y_size, learning_rate, dropout_ratio, epsilon):\n",
    "    model = Sequential()\n",
    "    \n",
    "    model.add(Dense(512, activation='relu', input_shape=(x_size, ), kernel_initializer='RandomNormal'))\n",
    "    Dropout(dropout_ratio)\n",
    "    model.add(Dense(256, activation='relu'))\n",
    "    Dropout(dropout_ratio)\n",
    "    model.add(Dense(128, activation='relu'))\n",
    "    Dropout(dropout_ratio)\n",
    "    model.add(Dense(64, activation='relu'))\n",
    "    Dropout(dropout_ratio)\n",
    "    model.add(Dense(32, activation='relu'))\n",
    "    Dropout(dropout_ratio)\n",
    "    model.add(Dense(16, activation='relu'))\n",
    "    Dropout(dropout_ratio)\n",
    "    model.add(Dense(8, activation='relu'))\n",
    "    Dropout(dropout_ratio)\n",
    "    model.add(Dense(y_size))\n",
    "    \n",
    "    model.compile(loss=weighted_mape,\n",
    "                  optimizer=Adam(learning_rate=learning_rate, epsilon=epsilon),\n",
    "                  metrics=['mae'])\n",
    "    \n",
    "    return model"
   ]
  },
  {
   "cell_type": "code",
   "execution_count": 6,
   "id": "0ed976c2",
   "metadata": {},
   "outputs": [
    {
     "name": "stderr",
     "output_type": "stream",
     "text": [
      "2022-10-13 01:27:51.975231: I tensorflow/stream_executor/platform/default/dso_loader.cc:48] Successfully opened dynamic library libcuda.so.1\n",
      "2022-10-13 01:27:52.053877: I tensorflow/stream_executor/cuda/cuda_gpu_executor.cc:982] successful NUMA node read from SysFS had negative value (-1), but there must be at least one NUMA node, so returning NUMA node zero\n",
      "2022-10-13 01:27:52.054673: I tensorflow/core/common_runtime/gpu/gpu_device.cc:1716] Found device 0 with properties: \n",
      "pciBusID: 0000:00:06.0 name: Tesla V100-PCIE-16GB computeCapability: 7.0\n",
      "coreClock: 1.38GHz coreCount: 80 deviceMemorySize: 15.75GiB deviceMemoryBandwidth: 836.37GiB/s\n",
      "2022-10-13 01:27:52.054792: I tensorflow/stream_executor/cuda/cuda_gpu_executor.cc:982] successful NUMA node read from SysFS had negative value (-1), but there must be at least one NUMA node, so returning NUMA node zero\n",
      "2022-10-13 01:27:52.055531: I tensorflow/core/common_runtime/gpu/gpu_device.cc:1716] Found device 1 with properties: \n",
      "pciBusID: 0000:00:07.0 name: Tesla V100-PCIE-16GB computeCapability: 7.0\n",
      "coreClock: 1.38GHz coreCount: 80 deviceMemorySize: 15.75GiB deviceMemoryBandwidth: 836.37GiB/s\n",
      "2022-10-13 01:27:52.055569: I tensorflow/stream_executor/platform/default/dso_loader.cc:48] Successfully opened dynamic library libcudart.so.10.1\n",
      "2022-10-13 01:27:52.059415: I tensorflow/stream_executor/platform/default/dso_loader.cc:48] Successfully opened dynamic library libcublas.so.10\n",
      "2022-10-13 01:27:52.062509: I tensorflow/stream_executor/platform/default/dso_loader.cc:48] Successfully opened dynamic library libcufft.so.10\n",
      "2022-10-13 01:27:52.063059: I tensorflow/stream_executor/platform/default/dso_loader.cc:48] Successfully opened dynamic library libcurand.so.10\n",
      "2022-10-13 01:27:52.067308: I tensorflow/stream_executor/platform/default/dso_loader.cc:48] Successfully opened dynamic library libcusolver.so.10\n",
      "2022-10-13 01:27:52.069044: I tensorflow/stream_executor/platform/default/dso_loader.cc:48] Successfully opened dynamic library libcusparse.so.10\n",
      "2022-10-13 01:27:52.077775: I tensorflow/stream_executor/platform/default/dso_loader.cc:48] Successfully opened dynamic library libcudnn.so.7\n",
      "2022-10-13 01:27:52.077934: I tensorflow/stream_executor/cuda/cuda_gpu_executor.cc:982] successful NUMA node read from SysFS had negative value (-1), but there must be at least one NUMA node, so returning NUMA node zero\n",
      "2022-10-13 01:27:52.078746: I tensorflow/stream_executor/cuda/cuda_gpu_executor.cc:982] successful NUMA node read from SysFS had negative value (-1), but there must be at least one NUMA node, so returning NUMA node zero\n",
      "2022-10-13 01:27:52.079497: I tensorflow/stream_executor/cuda/cuda_gpu_executor.cc:982] successful NUMA node read from SysFS had negative value (-1), but there must be at least one NUMA node, so returning NUMA node zero\n",
      "2022-10-13 01:27:52.080238: I tensorflow/stream_executor/cuda/cuda_gpu_executor.cc:982] successful NUMA node read from SysFS had negative value (-1), but there must be at least one NUMA node, so returning NUMA node zero\n",
      "2022-10-13 01:27:52.080953: I tensorflow/core/common_runtime/gpu/gpu_device.cc:1858] Adding visible gpu devices: 0, 1\n",
      "2022-10-13 01:27:52.081863: I tensorflow/core/platform/cpu_feature_guard.cc:142] This TensorFlow binary is optimized with oneAPI Deep Neural Network Library (oneDNN)to use the following CPU instructions in performance-critical operations:  AVX2 AVX512F FMA\n",
      "To enable them in other operations, rebuild TensorFlow with the appropriate compiler flags.\n",
      "2022-10-13 01:27:52.092241: I tensorflow/core/platform/profile_utils/cpu_utils.cc:104] CPU Frequency: 2095080000 Hz\n",
      "2022-10-13 01:27:52.093367: I tensorflow/compiler/xla/service/service.cc:168] XLA service 0x556989a514e0 initialized for platform Host (this does not guarantee that XLA will be used). Devices:\n",
      "2022-10-13 01:27:52.093394: I tensorflow/compiler/xla/service/service.cc:176]   StreamExecutor device (0): Host, Default Version\n",
      "2022-10-13 01:27:52.391102: I tensorflow/stream_executor/cuda/cuda_gpu_executor.cc:982] successful NUMA node read from SysFS had negative value (-1), but there must be at least one NUMA node, so returning NUMA node zero\n",
      "2022-10-13 01:27:52.394893: I tensorflow/stream_executor/cuda/cuda_gpu_executor.cc:982] successful NUMA node read from SysFS had negative value (-1), but there must be at least one NUMA node, so returning NUMA node zero\n",
      "2022-10-13 01:27:52.395832: I tensorflow/compiler/xla/service/service.cc:168] XLA service 0x556989abd8d0 initialized for platform CUDA (this does not guarantee that XLA will be used). Devices:\n",
      "2022-10-13 01:27:52.395862: I tensorflow/compiler/xla/service/service.cc:176]   StreamExecutor device (0): Tesla V100-PCIE-16GB, Compute Capability 7.0\n",
      "2022-10-13 01:27:52.395868: I tensorflow/compiler/xla/service/service.cc:176]   StreamExecutor device (1): Tesla V100-PCIE-16GB, Compute Capability 7.0\n",
      "2022-10-13 01:27:52.396449: I tensorflow/stream_executor/cuda/cuda_gpu_executor.cc:982] successful NUMA node read from SysFS had negative value (-1), but there must be at least one NUMA node, so returning NUMA node zero\n",
      "2022-10-13 01:27:52.397236: I tensorflow/core/common_runtime/gpu/gpu_device.cc:1716] Found device 0 with properties: \n",
      "pciBusID: 0000:00:06.0 name: Tesla V100-PCIE-16GB computeCapability: 7.0\n",
      "coreClock: 1.38GHz coreCount: 80 deviceMemorySize: 15.75GiB deviceMemoryBandwidth: 836.37GiB/s\n",
      "2022-10-13 01:27:52.397329: I tensorflow/stream_executor/cuda/cuda_gpu_executor.cc:982] successful NUMA node read from SysFS had negative value (-1), but there must be at least one NUMA node, so returning NUMA node zero\n",
      "2022-10-13 01:27:52.398039: I tensorflow/core/common_runtime/gpu/gpu_device.cc:1716] Found device 1 with properties: \n",
      "pciBusID: 0000:00:07.0 name: Tesla V100-PCIE-16GB computeCapability: 7.0\n",
      "coreClock: 1.38GHz coreCount: 80 deviceMemorySize: 15.75GiB deviceMemoryBandwidth: 836.37GiB/s\n",
      "2022-10-13 01:27:52.398090: I tensorflow/stream_executor/platform/default/dso_loader.cc:48] Successfully opened dynamic library libcudart.so.10.1\n",
      "2022-10-13 01:27:52.398110: I tensorflow/stream_executor/platform/default/dso_loader.cc:48] Successfully opened dynamic library libcublas.so.10\n",
      "2022-10-13 01:27:52.398123: I tensorflow/stream_executor/platform/default/dso_loader.cc:48] Successfully opened dynamic library libcufft.so.10\n",
      "2022-10-13 01:27:52.398144: I tensorflow/stream_executor/platform/default/dso_loader.cc:48] Successfully opened dynamic library libcurand.so.10\n",
      "2022-10-13 01:27:52.398156: I tensorflow/stream_executor/platform/default/dso_loader.cc:48] Successfully opened dynamic library libcusolver.so.10\n",
      "2022-10-13 01:27:52.398167: I tensorflow/stream_executor/platform/default/dso_loader.cc:48] Successfully opened dynamic library libcusparse.so.10\n",
      "2022-10-13 01:27:52.398180: I tensorflow/stream_executor/platform/default/dso_loader.cc:48] Successfully opened dynamic library libcudnn.so.7\n",
      "2022-10-13 01:27:52.398242: I tensorflow/stream_executor/cuda/cuda_gpu_executor.cc:982] successful NUMA node read from SysFS had negative value (-1), but there must be at least one NUMA node, so returning NUMA node zero\n",
      "2022-10-13 01:27:52.398994: I tensorflow/stream_executor/cuda/cuda_gpu_executor.cc:982] successful NUMA node read from SysFS had negative value (-1), but there must be at least one NUMA node, so returning NUMA node zero\n",
      "2022-10-13 01:27:52.399727: I tensorflow/stream_executor/cuda/cuda_gpu_executor.cc:982] successful NUMA node read from SysFS had negative value (-1), but there must be at least one NUMA node, so returning NUMA node zero\n",
      "2022-10-13 01:27:52.400454: I tensorflow/stream_executor/cuda/cuda_gpu_executor.cc:982] successful NUMA node read from SysFS had negative value (-1), but there must be at least one NUMA node, so returning NUMA node zero\n",
      "2022-10-13 01:27:52.401159: I tensorflow/core/common_runtime/gpu/gpu_device.cc:1858] Adding visible gpu devices: 0, 1\n",
      "2022-10-13 01:27:52.401245: I tensorflow/stream_executor/platform/default/dso_loader.cc:48] Successfully opened dynamic library libcudart.so.10.1\n",
      "2022-10-13 01:27:54.649217: I tensorflow/core/common_runtime/gpu/gpu_device.cc:1257] Device interconnect StreamExecutor with strength 1 edge matrix:\n",
      "2022-10-13 01:27:54.649280: I tensorflow/core/common_runtime/gpu/gpu_device.cc:1263]      0 1 \n",
      "2022-10-13 01:27:54.649290: I tensorflow/core/common_runtime/gpu/gpu_device.cc:1276] 0:   N N \n",
      "2022-10-13 01:27:54.649295: I tensorflow/core/common_runtime/gpu/gpu_device.cc:1276] 1:   N N \n",
      "2022-10-13 01:27:54.649696: I tensorflow/stream_executor/cuda/cuda_gpu_executor.cc:982] successful NUMA node read from SysFS had negative value (-1), but there must be at least one NUMA node, so returning NUMA node zero\n",
      "2022-10-13 01:27:54.650527: I tensorflow/stream_executor/cuda/cuda_gpu_executor.cc:982] successful NUMA node read from SysFS had negative value (-1), but there must be at least one NUMA node, so returning NUMA node zero\n",
      "2022-10-13 01:27:54.651303: I tensorflow/stream_executor/cuda/cuda_gpu_executor.cc:982] successful NUMA node read from SysFS had negative value (-1), but there must be at least one NUMA node, so returning NUMA node zero\n",
      "2022-10-13 01:27:54.652033: I tensorflow/core/common_runtime/gpu/gpu_device.cc:1402] Created TensorFlow device (/job:localhost/replica:0/task:0/device:GPU:0 with 14729 MB memory) -> physical GPU (device: 0, name: Tesla V100-PCIE-16GB, pci bus id: 0000:00:06.0, compute capability: 7.0)\n",
      "2022-10-13 01:27:54.652741: I tensorflow/stream_executor/cuda/cuda_gpu_executor.cc:982] successful NUMA node read from SysFS had negative value (-1), but there must be at least one NUMA node, so returning NUMA node zero\n",
      "2022-10-13 01:27:54.653501: I tensorflow/core/common_runtime/gpu/gpu_device.cc:1402] Created TensorFlow device (/job:localhost/replica:0/task:0/device:GPU:1 with 14729 MB memory) -> physical GPU (device: 1, name: Tesla V100-PCIE-16GB, pci bus id: 0000:00:07.0, compute capability: 7.0)\n"
     ]
    },
    {
     "name": "stdout",
     "output_type": "stream",
     "text": [
      "Model: \"sequential\"\n",
      "_________________________________________________________________\n",
      "Layer (type)                 Output Shape              Param #   \n",
      "=================================================================\n",
      "dense (Dense)                (None, 512)               55296     \n",
      "_________________________________________________________________\n",
      "dense_1 (Dense)              (None, 256)               131328    \n",
      "_________________________________________________________________\n",
      "dense_2 (Dense)              (None, 128)               32896     \n",
      "_________________________________________________________________\n",
      "dense_3 (Dense)              (None, 64)                8256      \n",
      "_________________________________________________________________\n",
      "dense_4 (Dense)              (None, 32)                2080      \n",
      "_________________________________________________________________\n",
      "dense_5 (Dense)              (None, 16)                528       \n",
      "_________________________________________________________________\n",
      "dense_6 (Dense)              (None, 8)                 136       \n",
      "_________________________________________________________________\n",
      "dense_7 (Dense)              (None, 1)                 9         \n",
      "=================================================================\n",
      "Total params: 230,529\n",
      "Trainable params: 230,529\n",
      "Non-trainable params: 0\n",
      "_________________________________________________________________\n"
     ]
    }
   ],
   "source": [
    "# Hyperparameter\n",
    "learning_rate = 0.0001\n",
    "dropout_ratio = 0.3\n",
    "epsilon = 0.001  # Batch normalization\n",
    "\n",
    "model = flow_prediction_model(x_size=X_test.shape[1], y_size=1, learning_rate=learning_rate,\n",
    "                              dropout_ratio=dropout_ratio, epsilon=epsilon)\n",
    "model.summary()"
   ]
  },
  {
   "cell_type": "markdown",
   "id": "99093181",
   "metadata": {},
   "source": [
    "## 모델 가중치 불러오기"
   ]
  },
  {
   "cell_type": "code",
   "execution_count": 7,
   "id": "5a06c102",
   "metadata": {},
   "outputs": [
    {
     "data": {
      "text/plain": [
       "<tensorflow.python.keras.engine.sequential.Sequential at 0x7f51e45adc10>"
      ]
     },
     "execution_count": 7,
     "metadata": {},
     "output_type": "execute_result"
    }
   ],
   "source": [
    "train_model = load_model('../weight/flow_prediction.h5', custom_objects={'weighted_mape': weighted_mape})\n",
    "train_model"
   ]
  },
  {
   "cell_type": "markdown",
   "id": "badca910",
   "metadata": {},
   "source": [
    "## 모델 성능 평가 (Mean Absolute Percentage Error) - 5회 반복"
   ]
  },
  {
   "cell_type": "code",
   "execution_count": 8,
   "id": "554856f6",
   "metadata": {
    "scrolled": true
   },
   "outputs": [
    {
     "data": {
      "text/plain": [
       "[220504,\n",
       " 83677,\n",
       " 100045,\n",
       " 47841,\n",
       " 245932,\n",
       " 86796,\n",
       " 84177,\n",
       " 215901,\n",
       " 38383,\n",
       " 136549,\n",
       " 11080,\n",
       " 180139,\n",
       " 134198,\n",
       " 105702,\n",
       " 121938,\n",
       " 144378,\n",
       " 206669,\n",
       " 14064,\n",
       " 22951,\n",
       " 208095,\n",
       " 88744,\n",
       " 132067,\n",
       " 49136,\n",
       " 85104,\n",
       " 193395,\n",
       " 83767,\n",
       " 59876,\n",
       " 235270,\n",
       " 244481,\n",
       " 92095,\n",
       " 115864,\n",
       " 110115,\n",
       " 5649,\n",
       " 74024,\n",
       " 232310,\n",
       " 135000,\n",
       " 207940,\n",
       " 104749,\n",
       " 126276,\n",
       " 5121,\n",
       " 4485,\n",
       " 222082,\n",
       " 225915,\n",
       " 82919,\n",
       " 40402,\n",
       " 51878,\n",
       " 201061,\n",
       " 144944,\n",
       " 18045,\n",
       " 122566,\n",
       " 159455,\n",
       " 246035,\n",
       " 78482,\n",
       " 110175,\n",
       " 6219,\n",
       " 153988,\n",
       " 53499,\n",
       " 231335,\n",
       " 243044,\n",
       " 69581,\n",
       " 151064,\n",
       " 147599,\n",
       " 216527,\n",
       " 105177,\n",
       " 91999,\n",
       " 168021,\n",
       " 206656,\n",
       " 101798,\n",
       " 32047,\n",
       " 10403,\n",
       " 55657,\n",
       " 47131,\n",
       " 28457,\n",
       " 201598,\n",
       " 27385,\n",
       " 220530,\n",
       " 228972,\n",
       " 150238,\n",
       " 87412,\n",
       " 43249,\n",
       " 99729,\n",
       " 191431,\n",
       " 152128,\n",
       " 212460,\n",
       " 208421,\n",
       " 39110,\n",
       " 34791,\n",
       " 209839,\n",
       " 60255,\n",
       " 196855,\n",
       " 32868,\n",
       " 48252,\n",
       " 37787,\n",
       " 104983,\n",
       " 195226,\n",
       " 26902,\n",
       " 110848,\n",
       " 138660,\n",
       " 154839,\n",
       " 66197]"
      ]
     },
     "execution_count": 8,
     "metadata": {},
     "output_type": "execute_result"
    }
   ],
   "source": [
    "# 랜덤 인덱스 생성\n",
    "dataset_index_list = list(range(X_test.shape[0]))\n",
    "\n",
    "random_index_list = random.sample(dataset_index_list, 100)\n",
    "random_index_list"
   ]
  },
  {
   "cell_type": "code",
   "execution_count": 9,
   "id": "d9db9c9d",
   "metadata": {},
   "outputs": [
    {
     "name": "stderr",
     "output_type": "stream",
     "text": [
      "2022-10-13 01:27:55.531625: I tensorflow/stream_executor/platform/default/dso_loader.cc:48] Successfully opened dynamic library libcublas.so.10\n"
     ]
    },
    {
     "name": "stdout",
     "output_type": "stream",
     "text": [
      "[Test 1] 음원 흐름 예측 모델 MAPE: 3.8100\n",
      "[Test 2] 음원 흐름 예측 모델 MAPE: 3.2138\n",
      "[Test 3] 음원 흐름 예측 모델 MAPE: 4.2542\n",
      "[Test 4] 음원 흐름 예측 모델 MAPE: 3.2348\n",
      "[Test 5] 음원 흐름 예측 모델 MAPE: 4.4477\n",
      "==================================================\n",
      "음원 흐름 예측 모델 평균 MAPE: 3.7921\n",
      "==================================================\n"
     ]
    }
   ],
   "source": [
    "test_num = 5\n",
    "mape_list = []\n",
    "\n",
    "dataset_index_list = list(range(X_test.shape[0]))\n",
    "\n",
    "\n",
    "for test_idx in range(test_num):\n",
    "    random_index_list = random.sample(dataset_index_list, 100)\n",
    "\n",
    "    X_test_extraction = X_test[random_index_list]\n",
    "    Y_test_extraction = Y_test[random_index_list]\n",
    "\n",
    "    predictions = train_model.predict(X_test_extraction).reshape(-1)\n",
    "    flow_prediction_mape = mape(Y_test_extraction, predictions)\n",
    "\n",
    "    mape_list.append(flow_prediction_mape)\n",
    "    \n",
    "    print(\"[Test {}] 음원 흐름 예측 모델 MAPE: {:.4f}\".format(test_idx+1, flow_prediction_mape))\n",
    "\n",
    "print(\"=\"*50)\n",
    "print(\"음원 흐름 예측 모델 평균 MAPE: {:.4f}\".format(np.mean(mape_list)))\n",
    "print(\"=\"*50)"
   ]
  },
  {
   "cell_type": "code",
   "execution_count": null,
   "id": "d6706d6f",
   "metadata": {},
   "outputs": [],
   "source": []
  }
 ],
 "metadata": {
  "kernelspec": {
   "display_name": "CIVP-final",
   "language": "python",
   "name": "civp-final"
  },
  "language_info": {
   "codemirror_mode": {
    "name": "ipython",
    "version": 3
   },
   "file_extension": ".py",
   "mimetype": "text/x-python",
   "name": "python",
   "nbconvert_exporter": "python",
   "pygments_lexer": "ipython3",
   "version": "3.7.13"
  }
 },
 "nbformat": 4,
 "nbformat_minor": 5
}
