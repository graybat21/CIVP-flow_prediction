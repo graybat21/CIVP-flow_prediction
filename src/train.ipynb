{
 "cells": [
  {
   "cell_type": "markdown",
   "id": "1dddee91",
   "metadata": {},
   "source": [
    "## 라이브러리 및 함수 선언"
   ]
  },
  {
   "cell_type": "code",
   "execution_count": 1,
   "id": "77fd7b4b",
   "metadata": {},
   "outputs": [
    {
     "name": "stderr",
     "output_type": "stream",
     "text": [
      "2022-10-12 22:58:37.467935: I tensorflow/stream_executor/platform/default/dso_loader.cc:48] Successfully opened dynamic library libcudart.so.10.1\n"
     ]
    }
   ],
   "source": [
    "import h5py\n",
    "import matplotlib.pyplot as plt\n",
    "import numpy as np\n",
    "import pandas as pd\n",
    "import tensorflow as tf\n",
    "from keras.callbacks import ModelCheckpoint\n",
    "from keras.layers import Dense, Dropout\n",
    "from keras.models import Sequential\n",
    "from keras.models import load_model\n",
    "from keras.optimizers import Adam\n",
    "from sklearn.model_selection import train_test_split\n",
    "\n",
    "pd.options.mode.chained_assignment = None"
   ]
  },
  {
   "cell_type": "code",
   "execution_count": 2,
   "id": "e8ad3e44",
   "metadata": {},
   "outputs": [],
   "source": [
    "def weighted_mape(y_true, y_pred):\n",
    "    tot = tf.reduce_sum(y_true)\n",
    "    # 텐서 안의 값이 지정된 범위를 넘지 않게 해줌\n",
    "    tot = tf.clip_by_value(tot, clip_value_min=0.01, clip_value_max=10000000000000) \n",
    "    wmape = tf.realdiv(tf.reduce_sum(tf.abs(tf.subtract(y_true,y_pred))), tot)*100\n",
    "    \n",
    "    return wmape"
   ]
  },
  {
   "cell_type": "code",
   "execution_count": 3,
   "id": "35ea14ee",
   "metadata": {},
   "outputs": [],
   "source": [
    "def mape(y_test, y_pred):\n",
    "    return np.mean(np.abs((y_test - y_pred) / y_test)) * 100"
   ]
  },
  {
   "cell_type": "markdown",
   "id": "e943b9c1",
   "metadata": {},
   "source": [
    "## 학습 데이터셋 불러오기"
   ]
  },
  {
   "cell_type": "code",
   "execution_count": 4,
   "id": "4dec14f5",
   "metadata": {},
   "outputs": [
    {
     "data": {
      "text/plain": [
       "((1003363, 107), (1003363,), (251087, 107), (251087,))"
      ]
     },
     "execution_count": 4,
     "metadata": {},
     "output_type": "execute_result"
    }
   ],
   "source": [
    "with h5py.File('../dataset/train_test_data.hdf5', 'r') as hf:\n",
    "    X_train = hf['x_train'][:]\n",
    "    Y_train = hf['y_train'][:]\n",
    "    \n",
    "    X_test = hf['x_test'][:]\n",
    "    Y_test = hf['y_test'][:]\n",
    "\n",
    "X_train.shape, Y_train.shape, X_test.shape, Y_test.shape"
   ]
  },
  {
   "cell_type": "markdown",
   "id": "02db2a56",
   "metadata": {},
   "source": [
    "## 모델 정의"
   ]
  },
  {
   "cell_type": "code",
   "execution_count": 5,
   "id": "7d324083",
   "metadata": {},
   "outputs": [],
   "source": [
    "def flow_prediction_model(x_size, y_size, learning_rate, dropout_ratio, epsilon):\n",
    "    model = Sequential()\n",
    "    \n",
    "    model.add(Dense(512, activation='relu', input_shape=(x_size, ), kernel_initializer='RandomNormal'))\n",
    "    Dropout(dropout_ratio)\n",
    "    model.add(Dense(256, activation='relu'))\n",
    "    Dropout(dropout_ratio)\n",
    "    model.add(Dense(128, activation='relu'))\n",
    "    Dropout(dropout_ratio)\n",
    "    model.add(Dense(64, activation='relu'))\n",
    "    Dropout(dropout_ratio)\n",
    "    model.add(Dense(32, activation='relu'))\n",
    "    Dropout(dropout_ratio)\n",
    "    model.add(Dense(16, activation='relu'))\n",
    "    Dropout(dropout_ratio)\n",
    "    model.add(Dense(8, activation='relu'))\n",
    "    Dropout(dropout_ratio)\n",
    "    model.add(Dense(y_size))\n",
    "    \n",
    "    model.compile(loss=weighted_mape,\n",
    "                  optimizer=Adam(learning_rate=learning_rate, epsilon=epsilon),\n",
    "                  metrics=['mae'])\n",
    "    \n",
    "    return model"
   ]
  },
  {
   "cell_type": "code",
   "execution_count": 6,
   "id": "69773c8f",
   "metadata": {},
   "outputs": [
    {
     "name": "stderr",
     "output_type": "stream",
     "text": [
      "2022-10-12 22:58:48.066339: I tensorflow/stream_executor/platform/default/dso_loader.cc:48] Successfully opened dynamic library libcuda.so.1\n",
      "2022-10-12 22:58:48.080927: I tensorflow/stream_executor/cuda/cuda_gpu_executor.cc:982] successful NUMA node read from SysFS had negative value (-1), but there must be at least one NUMA node, so returning NUMA node zero\n",
      "2022-10-12 22:58:48.081795: I tensorflow/core/common_runtime/gpu/gpu_device.cc:1716] Found device 0 with properties: \n",
      "pciBusID: 0000:00:06.0 name: Tesla V100-PCIE-16GB computeCapability: 7.0\n",
      "coreClock: 1.38GHz coreCount: 80 deviceMemorySize: 15.75GiB deviceMemoryBandwidth: 836.37GiB/s\n",
      "2022-10-12 22:58:48.081971: I tensorflow/stream_executor/cuda/cuda_gpu_executor.cc:982] successful NUMA node read from SysFS had negative value (-1), but there must be at least one NUMA node, so returning NUMA node zero\n",
      "2022-10-12 22:58:48.082785: I tensorflow/core/common_runtime/gpu/gpu_device.cc:1716] Found device 1 with properties: \n",
      "pciBusID: 0000:00:07.0 name: Tesla V100-PCIE-16GB computeCapability: 7.0\n",
      "coreClock: 1.38GHz coreCount: 80 deviceMemorySize: 15.75GiB deviceMemoryBandwidth: 836.37GiB/s\n",
      "2022-10-12 22:58:48.082827: I tensorflow/stream_executor/platform/default/dso_loader.cc:48] Successfully opened dynamic library libcudart.so.10.1\n",
      "2022-10-12 22:58:48.090471: I tensorflow/stream_executor/platform/default/dso_loader.cc:48] Successfully opened dynamic library libcublas.so.10\n",
      "2022-10-12 22:58:48.095865: I tensorflow/stream_executor/platform/default/dso_loader.cc:48] Successfully opened dynamic library libcufft.so.10\n",
      "2022-10-12 22:58:48.096635: I tensorflow/stream_executor/platform/default/dso_loader.cc:48] Successfully opened dynamic library libcurand.so.10\n",
      "2022-10-12 22:58:48.106393: I tensorflow/stream_executor/platform/default/dso_loader.cc:48] Successfully opened dynamic library libcusolver.so.10\n",
      "2022-10-12 22:58:48.109821: I tensorflow/stream_executor/platform/default/dso_loader.cc:48] Successfully opened dynamic library libcusparse.so.10\n",
      "2022-10-12 22:58:48.126120: I tensorflow/stream_executor/platform/default/dso_loader.cc:48] Successfully opened dynamic library libcudnn.so.7\n",
      "2022-10-12 22:58:48.126405: I tensorflow/stream_executor/cuda/cuda_gpu_executor.cc:982] successful NUMA node read from SysFS had negative value (-1), but there must be at least one NUMA node, so returning NUMA node zero\n",
      "2022-10-12 22:58:48.127285: I tensorflow/stream_executor/cuda/cuda_gpu_executor.cc:982] successful NUMA node read from SysFS had negative value (-1), but there must be at least one NUMA node, so returning NUMA node zero\n",
      "2022-10-12 22:58:48.128038: I tensorflow/stream_executor/cuda/cuda_gpu_executor.cc:982] successful NUMA node read from SysFS had negative value (-1), but there must be at least one NUMA node, so returning NUMA node zero\n",
      "2022-10-12 22:58:48.128835: I tensorflow/stream_executor/cuda/cuda_gpu_executor.cc:982] successful NUMA node read from SysFS had negative value (-1), but there must be at least one NUMA node, so returning NUMA node zero\n",
      "2022-10-12 22:58:48.129561: I tensorflow/core/common_runtime/gpu/gpu_device.cc:1858] Adding visible gpu devices: 0, 1\n",
      "2022-10-12 22:58:48.130947: I tensorflow/core/platform/cpu_feature_guard.cc:142] This TensorFlow binary is optimized with oneAPI Deep Neural Network Library (oneDNN)to use the following CPU instructions in performance-critical operations:  AVX2 AVX512F FMA\n",
      "To enable them in other operations, rebuild TensorFlow with the appropriate compiler flags.\n",
      "2022-10-12 22:58:48.143516: I tensorflow/core/platform/profile_utils/cpu_utils.cc:104] CPU Frequency: 2095080000 Hz\n",
      "2022-10-12 22:58:48.144791: I tensorflow/compiler/xla/service/service.cc:168] XLA service 0x557ad5f7ac00 initialized for platform Host (this does not guarantee that XLA will be used). Devices:\n",
      "2022-10-12 22:58:48.144815: I tensorflow/compiler/xla/service/service.cc:176]   StreamExecutor device (0): Host, Default Version\n",
      "2022-10-12 22:58:48.562293: I tensorflow/stream_executor/cuda/cuda_gpu_executor.cc:982] successful NUMA node read from SysFS had negative value (-1), but there must be at least one NUMA node, so returning NUMA node zero\n",
      "2022-10-12 22:58:48.564695: I tensorflow/stream_executor/cuda/cuda_gpu_executor.cc:982] successful NUMA node read from SysFS had negative value (-1), but there must be at least one NUMA node, so returning NUMA node zero\n",
      "2022-10-12 22:58:48.565635: I tensorflow/compiler/xla/service/service.cc:168] XLA service 0x557ad5fe7010 initialized for platform CUDA (this does not guarantee that XLA will be used). Devices:\n",
      "2022-10-12 22:58:48.565658: I tensorflow/compiler/xla/service/service.cc:176]   StreamExecutor device (0): Tesla V100-PCIE-16GB, Compute Capability 7.0\n",
      "2022-10-12 22:58:48.565665: I tensorflow/compiler/xla/service/service.cc:176]   StreamExecutor device (1): Tesla V100-PCIE-16GB, Compute Capability 7.0\n",
      "2022-10-12 22:58:48.566286: I tensorflow/stream_executor/cuda/cuda_gpu_executor.cc:982] successful NUMA node read from SysFS had negative value (-1), but there must be at least one NUMA node, so returning NUMA node zero\n",
      "2022-10-12 22:58:48.567019: I tensorflow/core/common_runtime/gpu/gpu_device.cc:1716] Found device 0 with properties: \n",
      "pciBusID: 0000:00:06.0 name: Tesla V100-PCIE-16GB computeCapability: 7.0\n",
      "coreClock: 1.38GHz coreCount: 80 deviceMemorySize: 15.75GiB deviceMemoryBandwidth: 836.37GiB/s\n",
      "2022-10-12 22:58:48.567120: I tensorflow/stream_executor/cuda/cuda_gpu_executor.cc:982] successful NUMA node read from SysFS had negative value (-1), but there must be at least one NUMA node, so returning NUMA node zero\n",
      "2022-10-12 22:58:48.567824: I tensorflow/core/common_runtime/gpu/gpu_device.cc:1716] Found device 1 with properties: \n",
      "pciBusID: 0000:00:07.0 name: Tesla V100-PCIE-16GB computeCapability: 7.0\n",
      "coreClock: 1.38GHz coreCount: 80 deviceMemorySize: 15.75GiB deviceMemoryBandwidth: 836.37GiB/s\n",
      "2022-10-12 22:58:48.567872: I tensorflow/stream_executor/platform/default/dso_loader.cc:48] Successfully opened dynamic library libcudart.so.10.1\n",
      "2022-10-12 22:58:48.567911: I tensorflow/stream_executor/platform/default/dso_loader.cc:48] Successfully opened dynamic library libcublas.so.10\n",
      "2022-10-12 22:58:48.567927: I tensorflow/stream_executor/platform/default/dso_loader.cc:48] Successfully opened dynamic library libcufft.so.10\n",
      "2022-10-12 22:58:48.567941: I tensorflow/stream_executor/platform/default/dso_loader.cc:48] Successfully opened dynamic library libcurand.so.10\n",
      "2022-10-12 22:58:48.567954: I tensorflow/stream_executor/platform/default/dso_loader.cc:48] Successfully opened dynamic library libcusolver.so.10\n",
      "2022-10-12 22:58:48.567967: I tensorflow/stream_executor/platform/default/dso_loader.cc:48] Successfully opened dynamic library libcusparse.so.10\n",
      "2022-10-12 22:58:48.567980: I tensorflow/stream_executor/platform/default/dso_loader.cc:48] Successfully opened dynamic library libcudnn.so.7\n",
      "2022-10-12 22:58:48.568052: I tensorflow/stream_executor/cuda/cuda_gpu_executor.cc:982] successful NUMA node read from SysFS had negative value (-1), but there must be at least one NUMA node, so returning NUMA node zero\n",
      "2022-10-12 22:58:48.568860: I tensorflow/stream_executor/cuda/cuda_gpu_executor.cc:982] successful NUMA node read from SysFS had negative value (-1), but there must be at least one NUMA node, so returning NUMA node zero\n",
      "2022-10-12 22:58:48.569578: I tensorflow/stream_executor/cuda/cuda_gpu_executor.cc:982] successful NUMA node read from SysFS had negative value (-1), but there must be at least one NUMA node, so returning NUMA node zero\n",
      "2022-10-12 22:58:48.570319: I tensorflow/stream_executor/cuda/cuda_gpu_executor.cc:982] successful NUMA node read from SysFS had negative value (-1), but there must be at least one NUMA node, so returning NUMA node zero\n",
      "2022-10-12 22:58:48.571059: I tensorflow/core/common_runtime/gpu/gpu_device.cc:1858] Adding visible gpu devices: 0, 1\n",
      "2022-10-12 22:58:48.571176: I tensorflow/stream_executor/platform/default/dso_loader.cc:48] Successfully opened dynamic library libcudart.so.10.1\n",
      "2022-10-12 22:58:51.612749: I tensorflow/core/common_runtime/gpu/gpu_device.cc:1257] Device interconnect StreamExecutor with strength 1 edge matrix:\n",
      "2022-10-12 22:58:51.612806: I tensorflow/core/common_runtime/gpu/gpu_device.cc:1263]      0 1 \n",
      "2022-10-12 22:58:51.612814: I tensorflow/core/common_runtime/gpu/gpu_device.cc:1276] 0:   N N \n",
      "2022-10-12 22:58:51.612818: I tensorflow/core/common_runtime/gpu/gpu_device.cc:1276] 1:   N N \n",
      "2022-10-12 22:58:51.613311: I tensorflow/stream_executor/cuda/cuda_gpu_executor.cc:982] successful NUMA node read from SysFS had negative value (-1), but there must be at least one NUMA node, so returning NUMA node zero\n",
      "2022-10-12 22:58:51.614169: I tensorflow/stream_executor/cuda/cuda_gpu_executor.cc:982] successful NUMA node read from SysFS had negative value (-1), but there must be at least one NUMA node, so returning NUMA node zero\n",
      "2022-10-12 22:58:51.614954: I tensorflow/stream_executor/cuda/cuda_gpu_executor.cc:982] successful NUMA node read from SysFS had negative value (-1), but there must be at least one NUMA node, so returning NUMA node zero\n",
      "2022-10-12 22:58:51.615740: I tensorflow/core/common_runtime/gpu/gpu_device.cc:1402] Created TensorFlow device (/job:localhost/replica:0/task:0/device:GPU:0 with 14729 MB memory) -> physical GPU (device: 0, name: Tesla V100-PCIE-16GB, pci bus id: 0000:00:06.0, compute capability: 7.0)\n",
      "2022-10-12 22:58:51.616497: I tensorflow/stream_executor/cuda/cuda_gpu_executor.cc:982] successful NUMA node read from SysFS had negative value (-1), but there must be at least one NUMA node, so returning NUMA node zero\n",
      "2022-10-12 22:58:51.617253: I tensorflow/core/common_runtime/gpu/gpu_device.cc:1402] Created TensorFlow device (/job:localhost/replica:0/task:0/device:GPU:1 with 13746 MB memory) -> physical GPU (device: 1, name: Tesla V100-PCIE-16GB, pci bus id: 0000:00:07.0, compute capability: 7.0)\n"
     ]
    },
    {
     "name": "stdout",
     "output_type": "stream",
     "text": [
      "Model: \"sequential\"\n",
      "_________________________________________________________________\n",
      "Layer (type)                 Output Shape              Param #   \n",
      "=================================================================\n",
      "dense (Dense)                (None, 512)               55296     \n",
      "_________________________________________________________________\n",
      "dense_1 (Dense)              (None, 256)               131328    \n",
      "_________________________________________________________________\n",
      "dense_2 (Dense)              (None, 128)               32896     \n",
      "_________________________________________________________________\n",
      "dense_3 (Dense)              (None, 64)                8256      \n",
      "_________________________________________________________________\n",
      "dense_4 (Dense)              (None, 32)                2080      \n",
      "_________________________________________________________________\n",
      "dense_5 (Dense)              (None, 16)                528       \n",
      "_________________________________________________________________\n",
      "dense_6 (Dense)              (None, 8)                 136       \n",
      "_________________________________________________________________\n",
      "dense_7 (Dense)              (None, 1)                 9         \n",
      "=================================================================\n",
      "Total params: 230,529\n",
      "Trainable params: 230,529\n",
      "Non-trainable params: 0\n",
      "_________________________________________________________________\n"
     ]
    }
   ],
   "source": [
    "# Hyperparameter\n",
    "learning_rate = 0.0001\n",
    "dropout_ratio = 0.3\n",
    "epsilon = 0.001  # Batch normalization\n",
    "batch_size = 64\n",
    "\n",
    "model = flow_prediction_model(x_size=X_train.shape[1], y_size=1, learning_rate=learning_rate,\n",
    "                              dropout_ratio=dropout_ratio, epsilon=epsilon)\n",
    "model.summary()"
   ]
  },
  {
   "cell_type": "markdown",
   "id": "560c64c5",
   "metadata": {},
   "source": [
    "## 모델 가중치 저장 체크포인트 생성"
   ]
  },
  {
   "cell_type": "code",
   "execution_count": 7,
   "id": "c5207279",
   "metadata": {},
   "outputs": [],
   "source": [
    "mcp_save = ModelCheckpoint(\"../weight/flow_prediction.h5\", save_best_only=True, monitor=\"val_mae\", mode=\"min\")"
   ]
  },
  {
   "cell_type": "markdown",
   "id": "5424cc11",
   "metadata": {},
   "source": [
    "## 모델 학습"
   ]
  },
  {
   "cell_type": "code",
   "execution_count": 8,
   "id": "41fb1dfe",
   "metadata": {},
   "outputs": [
    {
     "data": {
      "text/plain": [
       "((802690, 107), (200673, 107), (802690,), (200673,))"
      ]
     },
     "execution_count": 8,
     "metadata": {},
     "output_type": "execute_result"
    }
   ],
   "source": [
    "X_train, X_val, Y_train, Y_val = train_test_split(X_train, Y_train, test_size=0.2, shuffle=True, random_state=1004)\n",
    "X_train.shape, X_val.shape, Y_train.shape, Y_val.shape"
   ]
  },
  {
   "cell_type": "code",
   "execution_count": 9,
   "id": "458ed06c",
   "metadata": {},
   "outputs": [
    {
     "name": "stdout",
     "output_type": "stream",
     "text": [
      "Epoch 1/100\n"
     ]
    },
    {
     "name": "stderr",
     "output_type": "stream",
     "text": [
      "2022-10-12 22:59:05.514659: I tensorflow/stream_executor/platform/default/dso_loader.cc:48] Successfully opened dynamic library libcublas.so.10\n"
     ]
    },
    {
     "name": "stdout",
     "output_type": "stream",
     "text": [
      "12543/12543 [==============================] - 30s 2ms/step - loss: 4.8244 - mae: 226.1011 - val_loss: 3.8429 - val_mae: 179.6340\n",
      "Epoch 2/100\n",
      "12543/12543 [==============================] - 30s 2ms/step - loss: 3.8676 - mae: 180.8117 - val_loss: 4.1710 - val_mae: 195.5255\n",
      "Epoch 3/100\n",
      "12543/12543 [==============================] - 31s 2ms/step - loss: 3.6839 - mae: 172.2154 - val_loss: 3.6951 - val_mae: 172.6531\n",
      "Epoch 4/100\n",
      "12543/12543 [==============================] - 30s 2ms/step - loss: 3.5826 - mae: 167.3220 - val_loss: 4.5161 - val_mae: 211.4634\n",
      "Epoch 5/100\n",
      "12543/12543 [==============================] - 31s 2ms/step - loss: 3.4803 - mae: 162.6556 - val_loss: 3.4240 - val_mae: 160.2094\n",
      "Epoch 6/100\n",
      "12543/12543 [==============================] - 30s 2ms/step - loss: 3.4146 - mae: 159.5312 - val_loss: 3.3892 - val_mae: 158.4706\n",
      "Epoch 7/100\n",
      "12543/12543 [==============================] - 31s 2ms/step - loss: 3.3735 - mae: 157.6137 - val_loss: 3.7576 - val_mae: 175.9906\n",
      "Epoch 8/100\n",
      "12543/12543 [==============================] - 30s 2ms/step - loss: 3.3319 - mae: 155.6459 - val_loss: 3.2678 - val_mae: 152.8639\n",
      "Epoch 9/100\n",
      "12543/12543 [==============================] - 31s 2ms/step - loss: 3.3030 - mae: 154.3027 - val_loss: 3.4393 - val_mae: 160.7572\n",
      "Epoch 10/100\n",
      "12543/12543 [==============================] - 30s 2ms/step - loss: 3.2722 - mae: 152.8712 - val_loss: 3.1977 - val_mae: 149.4719\n",
      "Epoch 11/100\n",
      "12543/12543 [==============================] - 30s 2ms/step - loss: 3.2515 - mae: 151.8886 - val_loss: 3.1680 - val_mae: 148.2126\n",
      "Epoch 12/100\n",
      "12543/12543 [==============================] - 30s 2ms/step - loss: 3.2355 - mae: 151.1617 - val_loss: 3.1509 - val_mae: 147.3595\n",
      "Epoch 13/100\n",
      "12543/12543 [==============================] - 30s 2ms/step - loss: 3.2192 - mae: 150.3528 - val_loss: 3.1450 - val_mae: 147.0095\n",
      "Epoch 14/100\n",
      "12543/12543 [==============================] - 31s 2ms/step - loss: 3.2030 - mae: 149.5819 - val_loss: 3.2319 - val_mae: 151.1722\n",
      "Epoch 15/100\n",
      "12543/12543 [==============================] - 30s 2ms/step - loss: 3.1821 - mae: 148.6674 - val_loss: 3.3046 - val_mae: 154.7296\n",
      "Epoch 16/100\n",
      "12543/12543 [==============================] - 30s 2ms/step - loss: 3.1675 - mae: 148.0081 - val_loss: 3.2877 - val_mae: 153.9756\n",
      "Epoch 17/100\n",
      "12543/12543 [==============================] - 30s 2ms/step - loss: 3.1580 - mae: 147.4748 - val_loss: 3.2869 - val_mae: 153.5717\n",
      "Epoch 18/100\n",
      "12543/12543 [==============================] - 32s 3ms/step - loss: 3.1500 - mae: 147.1305 - val_loss: 3.2097 - val_mae: 150.0233\n",
      "Epoch 19/100\n",
      "12543/12543 [==============================] - 32s 3ms/step - loss: 3.1357 - mae: 146.4063 - val_loss: 3.7009 - val_mae: 172.9719\n",
      "Epoch 20/100\n",
      "12543/12543 [==============================] - 32s 3ms/step - loss: 3.1272 - mae: 146.0535 - val_loss: 3.0947 - val_mae: 144.7114\n",
      "Epoch 21/100\n",
      "12543/12543 [==============================] - 31s 2ms/step - loss: 3.1125 - mae: 145.4309 - val_loss: 3.0108 - val_mae: 140.7751\n",
      "Epoch 22/100\n",
      "12543/12543 [==============================] - 30s 2ms/step - loss: 3.1057 - mae: 145.1100 - val_loss: 3.1050 - val_mae: 145.1584\n",
      "Epoch 23/100\n",
      "12543/12543 [==============================] - 30s 2ms/step - loss: 3.0992 - mae: 144.7628 - val_loss: 3.0565 - val_mae: 142.8755\n",
      "Epoch 24/100\n",
      "12543/12543 [==============================] - 31s 2ms/step - loss: 3.0916 - mae: 144.4081 - val_loss: 3.1606 - val_mae: 147.8134\n",
      "Epoch 25/100\n",
      "12543/12543 [==============================] - 31s 2ms/step - loss: 3.0840 - mae: 143.9952 - val_loss: 3.1150 - val_mae: 145.7221\n",
      "Epoch 26/100\n",
      "12543/12543 [==============================] - 30s 2ms/step - loss: 3.0740 - mae: 143.6325 - val_loss: 3.0499 - val_mae: 142.5559\n",
      "Epoch 27/100\n",
      "12543/12543 [==============================] - 29s 2ms/step - loss: 3.0710 - mae: 143.4747 - val_loss: 3.2535 - val_mae: 152.2915\n",
      "Epoch 28/100\n",
      "12543/12543 [==============================] - 29s 2ms/step - loss: 3.0567 - mae: 142.7853 - val_loss: 3.0914 - val_mae: 144.5843\n",
      "Epoch 29/100\n",
      "12543/12543 [==============================] - 29s 2ms/step - loss: 3.0532 - mae: 142.5827 - val_loss: 3.0787 - val_mae: 144.0619\n",
      "Epoch 30/100\n",
      "12543/12543 [==============================] - 31s 2ms/step - loss: 3.0513 - mae: 142.5135 - val_loss: 3.2467 - val_mae: 151.8456\n",
      "Epoch 31/100\n",
      "12543/12543 [==============================] - 31s 2ms/step - loss: 3.0471 - mae: 142.2845 - val_loss: 2.9828 - val_mae: 139.4468\n",
      "Epoch 32/100\n",
      "12543/12543 [==============================] - 30s 2ms/step - loss: 3.0403 - mae: 142.0239 - val_loss: 3.0146 - val_mae: 140.9068\n",
      "Epoch 33/100\n",
      "12543/12543 [==============================] - 30s 2ms/step - loss: 3.0364 - mae: 141.8054 - val_loss: 3.0332 - val_mae: 141.8238\n",
      "Epoch 34/100\n",
      "12543/12543 [==============================] - 30s 2ms/step - loss: 3.0307 - mae: 141.4993 - val_loss: 2.9825 - val_mae: 139.4685\n",
      "Epoch 35/100\n",
      "12543/12543 [==============================] - 32s 3ms/step - loss: 3.0244 - mae: 141.1451 - val_loss: 2.9793 - val_mae: 139.2339\n",
      "Epoch 36/100\n",
      "12543/12543 [==============================] - 30s 2ms/step - loss: 3.0153 - mae: 140.7884 - val_loss: 2.9890 - val_mae: 139.7650\n",
      "Epoch 37/100\n",
      "12543/12543 [==============================] - 31s 2ms/step - loss: 3.0137 - mae: 140.7433 - val_loss: 3.1693 - val_mae: 148.3586\n",
      "Epoch 38/100\n",
      "12543/12543 [==============================] - 30s 2ms/step - loss: 3.0048 - mae: 140.3351 - val_loss: 3.3054 - val_mae: 154.5238\n",
      "Epoch 39/100\n",
      "12543/12543 [==============================] - 30s 2ms/step - loss: 2.9983 - mae: 139.9978 - val_loss: 3.0780 - val_mae: 143.9562\n",
      "Epoch 40/100\n",
      "12543/12543 [==============================] - 30s 2ms/step - loss: 2.9971 - mae: 140.0158 - val_loss: 3.0317 - val_mae: 141.7684\n",
      "Epoch 41/100\n",
      "12543/12543 [==============================] - 30s 2ms/step - loss: 2.9899 - mae: 139.6415 - val_loss: 3.0852 - val_mae: 144.3642\n",
      "Epoch 42/100\n",
      "12543/12543 [==============================] - 32s 3ms/step - loss: 2.9877 - mae: 139.5040 - val_loss: 2.9500 - val_mae: 137.9286\n",
      "Epoch 43/100\n",
      "12543/12543 [==============================] - 31s 2ms/step - loss: 2.9811 - mae: 139.2348 - val_loss: 2.9518 - val_mae: 138.0828\n",
      "Epoch 44/100\n",
      "12543/12543 [==============================] - 31s 2ms/step - loss: 2.9785 - mae: 139.1169 - val_loss: 2.9381 - val_mae: 137.3837\n",
      "Epoch 45/100\n",
      "12543/12543 [==============================] - 31s 2ms/step - loss: 2.9757 - mae: 138.9650 - val_loss: 3.0037 - val_mae: 140.4338\n",
      "Epoch 46/100\n",
      "12543/12543 [==============================] - 31s 2ms/step - loss: 2.9748 - mae: 138.9333 - val_loss: 3.1837 - val_mae: 148.9834\n",
      "Epoch 47/100\n",
      "12543/12543 [==============================] - 30s 2ms/step - loss: 2.9716 - mae: 138.7928 - val_loss: 3.0663 - val_mae: 143.4767\n",
      "Epoch 48/100\n",
      "12543/12543 [==============================] - 29s 2ms/step - loss: 2.9630 - mae: 138.3676 - val_loss: 3.2047 - val_mae: 149.7860\n",
      "Epoch 49/100\n",
      "12543/12543 [==============================] - 29s 2ms/step - loss: 2.9587 - mae: 138.1887 - val_loss: 3.0011 - val_mae: 140.2405\n",
      "Epoch 50/100\n",
      "12543/12543 [==============================] - 29s 2ms/step - loss: 2.9554 - mae: 137.9768 - val_loss: 3.0252 - val_mae: 141.4369\n",
      "Epoch 51/100\n",
      "12543/12543 [==============================] - 29s 2ms/step - loss: 2.9519 - mae: 137.8320 - val_loss: 3.0455 - val_mae: 142.4883\n",
      "Epoch 52/100\n",
      "12543/12543 [==============================] - 29s 2ms/step - loss: 2.9472 - mae: 137.6582 - val_loss: 2.9673 - val_mae: 138.7994\n",
      "Epoch 53/100\n",
      "12543/12543 [==============================] - 30s 2ms/step - loss: 2.9456 - mae: 137.5293 - val_loss: 3.0409 - val_mae: 142.1309\n",
      "Epoch 54/100\n",
      "12543/12543 [==============================] - 29s 2ms/step - loss: 2.9410 - mae: 137.3585 - val_loss: 3.0358 - val_mae: 141.9386\n",
      "Epoch 55/100\n",
      "12543/12543 [==============================] - 29s 2ms/step - loss: 2.9393 - mae: 137.2726 - val_loss: 2.9386 - val_mae: 137.4547\n",
      "Epoch 56/100\n",
      "12543/12543 [==============================] - 29s 2ms/step - loss: 2.9382 - mae: 137.2289 - val_loss: 3.1688 - val_mae: 148.1787\n",
      "Epoch 57/100\n",
      "12543/12543 [==============================] - 29s 2ms/step - loss: 2.9321 - mae: 136.8974 - val_loss: 3.0856 - val_mae: 144.3700\n",
      "Epoch 58/100\n"
     ]
    },
    {
     "name": "stdout",
     "output_type": "stream",
     "text": [
      "12543/12543 [==============================] - 29s 2ms/step - loss: 2.9317 - mae: 136.9746 - val_loss: 2.9401 - val_mae: 137.4420\n",
      "Epoch 59/100\n",
      "12543/12543 [==============================] - 29s 2ms/step - loss: 2.9280 - mae: 136.7290 - val_loss: 3.1189 - val_mae: 145.7558\n",
      "Epoch 60/100\n",
      "12543/12543 [==============================] - 29s 2ms/step - loss: 2.9238 - mae: 136.5243 - val_loss: 3.0284 - val_mae: 141.5741\n",
      "Epoch 61/100\n",
      "12543/12543 [==============================] - 29s 2ms/step - loss: 2.9212 - mae: 136.3964 - val_loss: 2.9142 - val_mae: 136.2483\n",
      "Epoch 62/100\n",
      "12543/12543 [==============================] - 29s 2ms/step - loss: 2.9180 - mae: 136.2332 - val_loss: 2.9704 - val_mae: 138.8673\n",
      "Epoch 63/100\n",
      "12543/12543 [==============================] - 28s 2ms/step - loss: 2.9122 - mae: 135.9646 - val_loss: 3.0552 - val_mae: 142.9100\n",
      "Epoch 64/100\n",
      "12543/12543 [==============================] - 29s 2ms/step - loss: 2.9109 - mae: 135.9276 - val_loss: 2.9854 - val_mae: 139.6285\n",
      "Epoch 65/100\n",
      "12543/12543 [==============================] - 29s 2ms/step - loss: 2.9073 - mae: 135.7765 - val_loss: 3.0996 - val_mae: 144.8730\n",
      "Epoch 66/100\n",
      "12543/12543 [==============================] - 28s 2ms/step - loss: 2.9043 - mae: 135.6980 - val_loss: 2.8801 - val_mae: 134.6451\n",
      "Epoch 67/100\n",
      "12543/12543 [==============================] - 28s 2ms/step - loss: 2.9038 - mae: 135.5798 - val_loss: 2.9851 - val_mae: 139.7259\n",
      "Epoch 68/100\n",
      "12543/12543 [==============================] - 29s 2ms/step - loss: 2.8970 - mae: 135.2890 - val_loss: 2.9495 - val_mae: 137.9565\n",
      "Epoch 69/100\n",
      "12543/12543 [==============================] - 29s 2ms/step - loss: 2.8968 - mae: 135.2528 - val_loss: 3.3133 - val_mae: 154.9077\n",
      "Epoch 70/100\n",
      "12543/12543 [==============================] - 29s 2ms/step - loss: 2.8944 - mae: 135.1172 - val_loss: 3.0569 - val_mae: 142.8811\n",
      "Epoch 71/100\n",
      "12543/12543 [==============================] - 29s 2ms/step - loss: 2.8927 - mae: 135.0880 - val_loss: 3.0208 - val_mae: 141.3303\n",
      "Epoch 72/100\n",
      "12543/12543 [==============================] - 28s 2ms/step - loss: 2.8894 - mae: 134.9604 - val_loss: 2.9035 - val_mae: 135.7489\n",
      "Epoch 73/100\n",
      "12543/12543 [==============================] - 30s 2ms/step - loss: 2.8903 - mae: 134.9429 - val_loss: 2.9245 - val_mae: 136.6806\n",
      "Epoch 74/100\n",
      "12543/12543 [==============================] - 30s 2ms/step - loss: 2.8827 - mae: 134.5741 - val_loss: 2.9143 - val_mae: 136.2294\n",
      "Epoch 75/100\n",
      "12543/12543 [==============================] - 30s 2ms/step - loss: 2.8833 - mae: 134.6700 - val_loss: 2.9662 - val_mae: 138.7431\n",
      "Epoch 76/100\n",
      "12543/12543 [==============================] - 30s 2ms/step - loss: 2.8816 - mae: 134.5567 - val_loss: 3.1127 - val_mae: 145.6512\n",
      "Epoch 77/100\n",
      "12543/12543 [==============================] - 31s 2ms/step - loss: 2.8775 - mae: 134.3575 - val_loss: 3.1636 - val_mae: 147.9729\n",
      "Epoch 78/100\n",
      "12543/12543 [==============================] - 30s 2ms/step - loss: 2.8752 - mae: 134.2761 - val_loss: 3.2120 - val_mae: 150.0405\n",
      "Epoch 79/100\n",
      "12543/12543 [==============================] - 31s 2ms/step - loss: 2.8767 - mae: 134.2982 - val_loss: 2.9532 - val_mae: 138.1172\n",
      "Epoch 80/100\n",
      "12543/12543 [==============================] - 31s 2ms/step - loss: 2.8691 - mae: 133.9895 - val_loss: 3.0216 - val_mae: 141.3233\n",
      "Epoch 81/100\n",
      "12543/12543 [==============================] - 31s 2ms/step - loss: 2.8719 - mae: 134.0677 - val_loss: 2.9361 - val_mae: 137.3293\n",
      "Epoch 82/100\n",
      "12543/12543 [==============================] - 30s 2ms/step - loss: 2.8683 - mae: 133.9150 - val_loss: 2.9018 - val_mae: 135.6956\n",
      "Epoch 83/100\n",
      "12543/12543 [==============================] - 30s 2ms/step - loss: 2.8633 - mae: 133.6586 - val_loss: 2.9058 - val_mae: 135.8425\n",
      "Epoch 84/100\n",
      "12543/12543 [==============================] - 29s 2ms/step - loss: 2.8643 - mae: 133.6910 - val_loss: 2.9544 - val_mae: 138.0792\n",
      "Epoch 85/100\n",
      "12543/12543 [==============================] - 29s 2ms/step - loss: 2.8614 - mae: 133.5329 - val_loss: 2.8697 - val_mae: 134.1610\n",
      "Epoch 86/100\n",
      "12543/12543 [==============================] - 30s 2ms/step - loss: 2.8566 - mae: 133.3938 - val_loss: 2.9086 - val_mae: 135.9509\n",
      "Epoch 87/100\n",
      "12543/12543 [==============================] - 30s 2ms/step - loss: 2.8579 - mae: 133.3994 - val_loss: 2.8829 - val_mae: 134.7575\n",
      "Epoch 88/100\n",
      "12543/12543 [==============================] - 29s 2ms/step - loss: 2.8529 - mae: 133.1371 - val_loss: 2.8771 - val_mae: 134.4761\n",
      "Epoch 89/100\n",
      "12543/12543 [==============================] - 28s 2ms/step - loss: 2.8509 - mae: 133.0565 - val_loss: 2.9068 - val_mae: 135.8570\n",
      "Epoch 90/100\n",
      "12543/12543 [==============================] - 28s 2ms/step - loss: 2.8493 - mae: 133.0517 - val_loss: 3.1454 - val_mae: 147.2405\n",
      "Epoch 91/100\n",
      "12543/12543 [==============================] - 29s 2ms/step - loss: 2.8437 - mae: 132.8017 - val_loss: 2.9083 - val_mae: 136.0033\n",
      "Epoch 92/100\n",
      "12543/12543 [==============================] - 29s 2ms/step - loss: 2.8460 - mae: 132.8984 - val_loss: 2.8778 - val_mae: 134.5671\n",
      "Epoch 93/100\n",
      "12543/12543 [==============================] - 29s 2ms/step - loss: 2.8454 - mae: 132.8318 - val_loss: 2.8642 - val_mae: 133.9418\n",
      "Epoch 94/100\n",
      "12543/12543 [==============================] - 29s 2ms/step - loss: 2.8419 - mae: 132.6904 - val_loss: 2.9975 - val_mae: 140.1425\n",
      "Epoch 95/100\n",
      "12543/12543 [==============================] - 29s 2ms/step - loss: 2.8377 - mae: 132.4650 - val_loss: 3.0300 - val_mae: 141.6808\n",
      "Epoch 96/100\n",
      "12543/12543 [==============================] - 28s 2ms/step - loss: 2.8329 - mae: 132.2975 - val_loss: 2.8977 - val_mae: 135.5123\n",
      "Epoch 97/100\n",
      "12543/12543 [==============================] - 29s 2ms/step - loss: 2.8361 - mae: 132.4200 - val_loss: 2.8983 - val_mae: 135.4561\n",
      "Epoch 98/100\n",
      "12543/12543 [==============================] - 29s 2ms/step - loss: 2.8351 - mae: 132.3635 - val_loss: 2.9744 - val_mae: 139.1312\n",
      "Epoch 99/100\n",
      "12543/12543 [==============================] - 29s 2ms/step - loss: 2.8331 - mae: 132.2897 - val_loss: 2.8928 - val_mae: 135.2979\n",
      "Epoch 100/100\n",
      "12543/12543 [==============================] - 29s 2ms/step - loss: 2.8282 - mae: 132.0465 - val_loss: 2.8643 - val_mae: 133.9030\n"
     ]
    }
   ],
   "source": [
    "history = model.fit(X_train, Y_train, batch_size=batch_size, epochs=100, verbose=1, validation_data=(X_val, Y_val), \n",
    "                    callbacks=[mcp_save], shuffle=True)"
   ]
  },
  {
   "cell_type": "code",
   "execution_count": 10,
   "id": "ff869e0b",
   "metadata": {},
   "outputs": [],
   "source": [
    "def plot_hist(h, xsize=6, ysize=10):\n",
    "    # Prepare plotting\n",
    "    plt.rcParams[\"figure.figsize\"] = [xsize, ysize]\n",
    "    plt.rc('font', size=7)\n",
    "    \n",
    "    # summarize history for MAE\n",
    "    plt.subplot(211)\n",
    "    plt.plot(h['mae'])\n",
    "    plt.plot(h['val_mae'])\n",
    "    plt.title('Training vs Validation mae')\n",
    "    plt.ylabel('mae')\n",
    "    plt.xlabel('Epoch')\n",
    "    plt.legend(['Train', 'Validation'], loc='upper left')\n",
    "    \n",
    "    # summarize history for loss\n",
    "    plt.subplot(212)\n",
    "    plt.plot(h['loss'])\n",
    "    plt.plot(h['val_loss'])\n",
    "    plt.title('Training vs Validation Loss')\n",
    "    plt.ylabel('Loss')\n",
    "    plt.xlabel('Epoch')\n",
    "    plt.legend(['Train', 'Validation'], loc='upper left')\n",
    "    \n",
    "    # Plot it all in IPython (non-interactive)\n",
    "    plt.draw()\n",
    "    plt.show()"
   ]
  },
  {
   "cell_type": "code",
   "execution_count": 11,
   "id": "66584918",
   "metadata": {},
   "outputs": [
    {
     "data": {
      "image/png": "[encoded data removed]",
      "text/plain": [
       "<Figure size 600x800 with 2 Axes>"
      ]
     },
     "metadata": {},
     "output_type": "display_data"
    }
   ],
   "source": [
    "plot_hist(history.history, xsize=6, ysize=8)"
   ]
  },
  {
   "cell_type": "markdown",
   "id": "93c28335",
   "metadata": {},
   "source": [
    "## 모델 불러오기"
   ]
  },
  {
   "cell_type": "code",
   "execution_count": 12,
   "id": "ab31e5e8",
   "metadata": {},
   "outputs": [],
   "source": [
    "model_2 = load_model('../weight/flow_prediction.h5', custom_objects={'weighted_mape': weighted_mape})"
   ]
  },
  {
   "cell_type": "markdown",
   "id": "0b16c2f1",
   "metadata": {},
   "source": [
    "## 모델 성능 평가 (Mean Absolute Percentage Error)"
   ]
  },
  {
   "cell_type": "code",
   "execution_count": 13,
   "id": "9d878e32",
   "metadata": {},
   "outputs": [
    {
     "data": {
      "text/plain": [
       "array([701.7408 , 642.4197 , 612.8004 , ..., 418.61255, 375.94113,\n",
       "       329.70374], dtype=float32)"
      ]
     },
     "execution_count": 13,
     "metadata": {},
     "output_type": "execute_result"
    }
   ],
   "source": [
    "predictions = model_2.predict(X_test).reshape(-1)\n",
    "predictions"
   ]
  },
  {
   "cell_type": "code",
   "execution_count": 14,
   "id": "055e17d0",
   "metadata": {},
   "outputs": [
    {
     "name": "stdout",
     "output_type": "stream",
     "text": [
      "음원 흐름 예측 모델 MAPE: 3.883\n"
     ]
    }
   ],
   "source": [
    "flow_prediction_mape = mape(Y_test, predictions)\n",
    "\n",
    "print(\"음원 흐름 예측 모델 MAPE: {:.3f}\".format(flow_prediction_mape))"
   ]
  },
  {
   "cell_type": "code",
   "execution_count": null,
   "id": "3e4dc9a9",
   "metadata": {},
   "outputs": [],
   "source": []
  }
 ],
 "metadata": {
  "kernelspec": {
   "display_name": "CVIP-flow_test",
   "language": "python",
   "name": "cvip-flow_test"
  },
  "language_info": {
   "codemirror_mode": {
    "name": "ipython",
    "version": 3
   },
   "file_extension": ".py",
   "mimetype": "text/x-python",
   "name": "python",
   "nbconvert_exporter": "python",
   "pygments_lexer": "ipython3",
   "version": "3.7.13"
  }
 },
 "nbformat": 4,
 "nbformat_minor": 5
}
